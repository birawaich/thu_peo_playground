{
 "cells": [
  {
   "cell_type": "code",
   "execution_count": 4,
   "metadata": {},
   "outputs": [],
   "source": [
    "import numpy as np"
   ]
  },
  {
   "cell_type": "code",
   "execution_count": 19,
   "metadata": {},
   "outputs": [],
   "source": [
    "class Result:\n",
    "    \"\"\"Simple class to hold the results\"\"\"\n",
    "\n",
    "    def __init__(self, num_samples):\n",
    "\n",
    "        self._result = {\n",
    "            'top': []\n",
    "            ,'top2': []\n",
    "            ,'top5': []\n",
    "            ,'top10': []\n",
    "        }\n",
    "\n",
    "        self._num_samples = num_samples\n",
    "\n",
    "    def add_to_result(self, samples: np.ndarray):\n",
    "        \"\"\"Add a samples array to the result\"\"\"\n",
    "\n",
    "        sorted = np.sort(samples)\n",
    "\n",
    "        self._result['top'].append(sorted[0])\n",
    "        self._result['top2'].append(sorted[int(self._num_samples * 0.02)])\n",
    "        self._result['top5'].append(sorted[int(self._num_samples * 0.05)])\n",
    "        self._result['top10'].append(sorted[int(self._num_samples * 0.1)])\n",
    "\n",
    "    def get_result(self) -> dict:\n",
    "        \"\"\"Get the result as a dict with np arrays\"\"\"\n",
    "\n",
    "        res =  {\n",
    "            'top': np.array(self._result['top'])\n",
    "            ,'top2': np.array(self._result['top2'])\n",
    "            ,'top5': np.array(self._result['top5'])\n",
    "            ,'top10': np.array(self._result['top10'])\n",
    "        }\n",
    "        return res\n"
   ]
  },
  {
   "cell_type": "code",
   "execution_count": null,
   "metadata": {},
   "outputs": [],
   "source": [
    "# PARAMETERS\n",
    "num_searchspace = int(10e5) #number of candidates in the search space\n",
    "searchspace_start = 0 #start of the searchspace interval\n",
    "searchspace_end = 100 #end of the searchspace interval\n",
    "\n",
    "num_sampels = 100 #number of samples to draw\n",
    "\n",
    "num_iterations = 42 #times to do this\n",
    "# END PARAMETERS\n",
    "\n",
    "rng = np.random.default_rng()\n",
    "result = Result(num_samples=num_sampels)\n",
    "\n",
    "# generate searchspace\n",
    "searchspace = rng.uniform(searchspace_start,searchspace_end,num_searchspace)\n",
    "\n",
    "# experiment\n",
    "for i in range(num_iterations):\n",
    "    # draw samples\n",
    "    samples = rng.choice(searchspace, size=num_sampels)\n",
    "    result.add_to_result(samples=samples)\n",
    "\n",
    "# plot\n",
    "result_dict = result.get_result()\n",
    "print(result_dict)"
   ]
  }
 ],
 "metadata": {
  "kernelspec": {
   "display_name": "thu_peo_playground",
   "language": "python",
   "name": "thu_peo_playground"
  },
  "language_info": {
   "codemirror_mode": {
    "name": "ipython",
    "version": 3
   },
   "file_extension": ".py",
   "mimetype": "text/x-python",
   "name": "python",
   "nbconvert_exporter": "python",
   "pygments_lexer": "ipython3",
   "version": "3.11.0rc1"
  }
 },
 "nbformat": 4,
 "nbformat_minor": 2
}
